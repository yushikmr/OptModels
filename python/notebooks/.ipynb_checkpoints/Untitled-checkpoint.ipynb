{
 "cells": [
  {
   "cell_type": "code",
   "execution_count": 3,
   "id": "4369259e-c150-4f4c-9e6d-e1f4a5c1fa64",
   "metadata": {},
   "outputs": [],
   "source": [
    "import numpy as np\n",
    "import random\n",
    "import matplotlib.pyplot as plt"
   ]
  },
  {
   "cell_type": "code",
   "execution_count": 4,
   "id": "c5763425-e590-41e3-b45d-42b5dbf292b1",
   "metadata": {},
   "outputs": [],
   "source": [
    "def sbc(x1, x2, eta):\n",
    "    u = random.random()\n",
    "    if u < 0.5:\n",
    "        beta = (2 * u) ** (1 / (eta + 1))\n",
    "    else:\n",
    "        beta = (1 / (2 * (1 - u))) ** (1 / (eta + 1))\n",
    "    \n",
    "    c1 = 0.5 * ( (1 + beta) * x1 + (1 - beta) * x2)\n",
    "    c2 = 0.5 * ( (1 - beta) * x1 + (1 + beta) * x2)\n",
    "    if random.random() < 0.5:    \n",
    "        return c1, c2\n",
    "    else:\n",
    "        return c2, c1\n"
   ]
  },
  {
   "cell_type": "code",
   "execution_count": 5,
   "id": "b43ed358-0680-43ed-9f60-9962fd218950",
   "metadata": {},
   "outputs": [],
   "source": [
    "def simulatedBinaryCrossover(ind1, ind2, eta):\n",
    "    l = max(len(ind1), len(ind2))\n",
    "    for i in range(l):\n",
    "        x1 = ind1[i]\n",
    "        x2 = ind2[i]\n",
    "            u = random.random()\n",
    "        if u < 0.5:\n",
    "            beta = (2 * u) ** (1 / (eta + 1))\n",
    "        else:\n",
    "            beta = (1 / (2 * (1 - u))) ** (1 / (eta + 1))\n",
    "\n",
    "        c1 = 0.5 * ( (1 + beta) * x1 + (1 - beta) * x2)\n",
    "        c2 = 0.5 * ( (1 - beta) * x1 + (1 + beta) * x2)\n",
    "        if random.random() < 0.5:    \n",
    "            ind1[i], ind2[i] = c1, c2\n",
    "        else:\n",
    "            ind1[i], ind2[i] = c2, c1\n",
    "    return ind1, ind2"
   ]
  },
  {
   "cell_type": "code",
   "execution_count": 6,
   "id": "2744f514-b04a-43d7-941e-f4d20999461f",
   "metadata": {},
   "outputs": [
    {
     "data": {
      "text/plain": [
       "(array([2.0000e+00, 7.0000e+00, 3.5000e+01, 1.3100e+02, 6.1800e+02,\n",
       "        3.0440e+03, 1.7111e+04, 2.4773e+04, 4.0650e+03, 5.7000e+02,\n",
       "        3.9000e+01, 8.0000e+00, 0.0000e+00, 0.0000e+00, 0.0000e+00,\n",
       "        0.0000e+00, 0.0000e+00, 0.0000e+00, 0.0000e+00, 0.0000e+00,\n",
       "        0.0000e+00, 0.0000e+00, 0.0000e+00, 0.0000e+00, 0.0000e+00,\n",
       "        3.0000e+00, 1.9000e+01, 1.6100e+02, 1.4650e+03, 1.0158e+04,\n",
       "        2.8994e+04, 7.1290e+03, 1.3030e+03, 2.8600e+02, 5.8000e+01,\n",
       "        1.3000e+01, 5.0000e+00, 0.0000e+00, 2.0000e+00, 1.0000e+00]),\n",
       " array([-1.60944898, -1.52362349, -1.437798  , -1.3519725 , -1.26614701,\n",
       "        -1.18032152, -1.09449602, -1.00867053, -0.92284504, -0.83701954,\n",
       "        -0.75119405, -0.66536855, -0.57954306, -0.49371757, -0.40789207,\n",
       "        -0.32206658, -0.23624109, -0.15041559, -0.0645901 ,  0.02123539,\n",
       "         0.10706089,  0.19288638,  0.27871187,  0.36453737,  0.45036286,\n",
       "         0.53618836,  0.62201385,  0.70783934,  0.79366484,  0.87949033,\n",
       "         0.96531582,  1.05114132,  1.13696681,  1.2227923 ,  1.3086178 ,\n",
       "         1.39444329,  1.48026878,  1.56609428,  1.65191977,  1.73774527,\n",
       "         1.82357076]),\n",
       " <BarContainer object of 40 artists>)"
      ]
     },
     "execution_count": 6,
     "metadata": {},
     "output_type": "execute_result"
    },
    {
     "data": {
      "image/png": "[encoded data removed]",
      "text/plain": [
       "<Figure size 432x288 with 1 Axes>"
      ]
     },
     "metadata": {
      "needs_background": "light"
     },
     "output_type": "display_data"
    }
   ],
   "source": [
    "plt.hist(cs, bins=40)"
   ]
  },
  {
   "cell_type": "code",
   "execution_count": 27,
   "id": "5c037637-bf70-41f9-b614-b7f873e6f3f5",
   "metadata": {},
   "outputs": [
    {
     "data": {
      "text/plain": [
       "-1.0012142717633727"
      ]
     },
     "execution_count": 27,
     "metadata": {},
     "output_type": "execute_result"
    }
   ],
   "source": [
    "sum(cs) / len(cs)"
   ]
  },
  {
   "cell_type": "code",
   "execution_count": null,
   "id": "217df758-6d97-4036-b1a5-8f6889cf1b24",
   "metadata": {},
   "outputs": [],
   "source": []
  }
 ],
 "metadata": {
  "kernelspec": {
   "display_name": "Python 3 (ipykernel)",
   "language": "python",
   "name": "python3"
  },
  "language_info": {
   "codemirror_mode": {
    "name": "ipython",
    "version": 3
   },
   "file_extension": ".py",
   "mimetype": "text/x-python",
   "name": "python",
   "nbconvert_exporter": "python",
   "pygments_lexer": "ipython3",
   "version": "3.9.6"
  }
 },
 "nbformat": 4,
 "nbformat_minor": 5
}
