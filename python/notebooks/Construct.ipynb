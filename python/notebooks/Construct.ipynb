{
 "cells": [
  {
   "cell_type": "code",
   "execution_count": 1,
   "id": "0371fc70-fc92-46ef-80e1-5e5b2f9c784b",
   "metadata": {},
   "outputs": [],
   "source": [
    "from dataclasses import dataclass, field\n",
    "\n",
    "@dataclass\n",
    "class indivdual:\n",
    "    chromosomes:list\n",
    "    num_objects:int\n",
    "    directions:tuple=field(default_factory=tuple)\n",
    "    fitness:list=field(default_factory=list)\n",
    "    rank:int=None\n",
    "    def __post_init__(self):\n",
    "        if type(self.chromosomes) != list:\n",
    "            raise TypeError(f'chromosomes must be list but {type(self.chromosomes)}.')\n",
    "        if type(self.fitness) != list:\n",
    "            raise TypeError(f'fitness must be list but {type(self.fitness)}.')\n",
    "        if type(self.directions) != tuple:\n",
    "            raise TypeError(f'fitness must be tuple but {type(self.directions)}.')\n",
    "        if len(self.directions) == 0:\n",
    "            self.directions = (1,) * self.num_objects\n",
    "        if len(self.directions) != self.num_objects:\n",
    "            raise ValueError(f'the length of direction must be {self.num_objects}')\n",
    "    def addRank(self, rank):\n",
    "        \"\"\"addと言いつつ新しいインスタンスを返す\n",
    "        \"\"\"\n",
    "        return indivdual(chromosomes=self.chromosomes, \n",
    "                         num_objects=self.num_objects, \n",
    "                         directions=self.directions,\n",
    "                         fitness=self.fitness,\n",
    "                         rank=rank)\n",
    "    def allocationFitness(self, func):\n",
    "        return indivdual(chromosomes=self.chromosomes, \n",
    "                         num_objects=self.num_objects, \n",
    "                         directions=self.directions,\n",
    "                         fitness=func(self.chromosomes, self.num_objects),\n",
    "                         rank=self.rank)"
   ]
  },
  {
   "cell_type": "code",
   "execution_count": 2,
   "id": "6284a9ae-5968-45ab-a12b-ce25a8a2dda0",
   "metadata": {},
   "outputs": [],
   "source": [
    "class Population(list):\n",
    "    def __init__(self, *v):\n",
    "        super().__init__(v)\n",
    "    def __add__(self, other):\n",
    "        newpopulation = list(self) + list(other)\n",
    "        return Population(*newpopulation)"
   ]
  },
  {
   "cell_type": "code",
   "execution_count": 3,
   "id": "7622c2a0-3df6-45f1-be70-d39c55960e80",
   "metadata": {},
   "outputs": [
    {
     "ename": "NameError",
     "evalue": "name 'dtlz2' is not defined",
     "output_type": "error",
     "traceback": [
      "\u001b[0;31m---------------------------------------------------------------------------\u001b[0m",
      "\u001b[0;31mNameError\u001b[0m                                 Traceback (most recent call last)",
      "\u001b[0;32m/var/folders/nf/g9c51mfj7fv4sq4f5wk8rtnc0000gn/T/ipykernel_91573/1204675906.py\u001b[0m in \u001b[0;36m<module>\u001b[0;34m\u001b[0m\n\u001b[1;32m      1\u001b[0m \u001b[0mind\u001b[0m \u001b[0;34m=\u001b[0m \u001b[0mindivdual\u001b[0m\u001b[0;34m(\u001b[0m\u001b[0;34m[\u001b[0m\u001b[0;36m0\u001b[0m\u001b[0;34m,\u001b[0m \u001b[0;36m0\u001b[0m\u001b[0;34m,\u001b[0m \u001b[0;36m1\u001b[0m\u001b[0;34m]\u001b[0m\u001b[0;34m,\u001b[0m \u001b[0;36m3\u001b[0m\u001b[0;34m)\u001b[0m\u001b[0;34m\u001b[0m\u001b[0;34m\u001b[0m\u001b[0m\n\u001b[0;32m----> 2\u001b[0;31m \u001b[0mind\u001b[0m\u001b[0;34m.\u001b[0m\u001b[0mallocationFitness\u001b[0m\u001b[0;34m(\u001b[0m\u001b[0mdtlz2\u001b[0m\u001b[0;34m)\u001b[0m\u001b[0;34m\u001b[0m\u001b[0;34m\u001b[0m\u001b[0m\n\u001b[0m",
      "\u001b[0;31mNameError\u001b[0m: name 'dtlz2' is not defined"
     ]
    }
   ],
   "source": [
    "ind = indivdual([0, 0, 1], 3)\n",
    "ind.allocationFitness(dtlz2)"
   ]
  },
  {
   "cell_type": "code",
   "execution_count": null,
   "id": "9fd70aa7-3482-4cd8-b29a-e3c69b01f4c2",
   "metadata": {},
   "outputs": [],
   "source": [
    "from functools import reduce\n",
    "from operator import mul\n",
    "from math import *\n",
    "def dtlz2(individual, obj):\n",
    "    xc = individual[:obj-1]\n",
    "    xm = individual[obj-1:]\n",
    "    g = sum((xi-0.5)**2 for xi in xm)\n",
    "    f = [(1.0+g) *  reduce(mul, (cos(0.5*xi*pi) for xi in xc), 1.0)]\n",
    "    f.extend((1.0+g) * reduce(mul, (cos(0.5*xi*pi) for xi in xc[:m]), 1) \\\n",
    "             * sin(0.5*xc[m]*pi) for m in range(obj-2, -1, -1))\n",
    "\n",
    "    return f"
   ]
  },
  {
   "cell_type": "code",
   "execution_count": null,
   "id": "300fb8f0-d4dd-4646-b087-aeaf61610c85",
   "metadata": {},
   "outputs": [],
   "source": [
    "dtlz2([1,1,1, 3], 3)"
   ]
  },
  {
   "cell_type": "code",
   "execution_count": 4,
   "id": "59d16335-d556-4ed5-a3cc-011d81027094",
   "metadata": {},
   "outputs": [
    {
     "data": {
      "text/plain": [
       "__main__.Population"
      ]
     },
     "execution_count": 4,
     "metadata": {},
     "output_type": "execute_result"
    }
   ],
   "source": [
    "type(Population(1, 1, 1) + Population(0, 0, 0))"
   ]
  },
  {
   "cell_type": "code",
   "execution_count": 5,
   "id": "7b2aea3a-5d53-49e6-8949-71d348f75b65",
   "metadata": {},
   "outputs": [
    {
     "data": {
      "text/plain": [
       "list"
      ]
     },
     "execution_count": 5,
     "metadata": {},
     "output_type": "execute_result"
    }
   ],
   "source": [
    "type(Population(1, 1, 1)[:])"
   ]
  },
  {
   "cell_type": "code",
   "execution_count": null,
   "id": "f4d3389d-509b-4fcb-a915-4f83baa02d29",
   "metadata": {},
   "outputs": [],
   "source": []
  },
  {
   "cell_type": "code",
   "execution_count": null,
   "id": "e92e60d6-1453-415e-bd26-891d658b0dad",
   "metadata": {},
   "outputs": [],
   "source": []
  }
 ],
 "metadata": {
  "kernelspec": {
   "display_name": "Python 3 (ipykernel)",
   "language": "python",
   "name": "python3"
  },
  "language_info": {
   "codemirror_mode": {
    "name": "ipython",
    "version": 3
   },
   "file_extension": ".py",
   "mimetype": "text/x-python",
   "name": "python",
   "nbconvert_exporter": "python",
   "pygments_lexer": "ipython3",
   "version": "3.9.6"
  }
 },
 "nbformat": 4,
 "nbformat_minor": 5
}
