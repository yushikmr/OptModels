{
 "cells": [
  {
   "cell_type": "code",
   "execution_count": 1,
   "id": "8ed00b33-35f9-49e3-a1a2-a472803cb70a",
   "metadata": {},
   "outputs": [],
   "source": [
    "import numpy as np\n",
    "import random\n",
    "import matplotlib.pyplot as plt"
   ]
  },
  {
   "cell_type": "code",
   "execution_count": 2,
   "id": "975566e1-5b9f-4b9a-b276-63d90ace63bf",
   "metadata": {},
   "outputs": [],
   "source": [
    "samplePlots = ((0.5, 0.5), \n",
    "               (1, 1), \n",
    "               (0.8, 0.7), \n",
    "               (0.3, 0.8),\n",
    "               (0.9, 0.4))\n",
    "x = [i[0] for i in samplePlots]\n",
    "y = [i[1] for i in samplePlots]"
   ]
  },
  {
   "cell_type": "markdown",
   "id": "f20edfec-9005-4281-97b3-b34042d11adb",
   "metadata": {},
   "source": [
    "### 優越関係の判定"
   ]
  },
  {
   "cell_type": "code",
   "execution_count": 28,
   "id": "fc13aec5-f8b6-4f04-bb2c-e8a375ca4692",
   "metadata": {},
   "outputs": [],
   "source": [
    "def is_dominated(a, b):\n",
    "    dominated_num = [1 for i, j in zip(a, b) if i > j]\n",
    "    return True if len(dominated_num) > 0  else False \n",
    "\n",
    "def is_non_dominated(a, b):\n",
    "    \"\"\"\n",
    "    \"\"\"\n",
    "    dominated_num = [1 for i, j in zip(a, b) if i > j]\n",
    "    return True if len(dominated_num) == 0  else False "
   ]
  },
  {
   "cell_type": "code",
   "execution_count": 36,
   "id": "ce8016f8-0edf-4071-9c65-5458bffa0d84",
   "metadata": {},
   "outputs": [
    {
     "name": "stdout",
     "output_type": "stream",
     "text": [
      "========== bがaに優越 =========\n",
      "False\n",
      "True\n",
      "========== 優越なし =========\n",
      "False\n",
      "True\n",
      "========== aがbに優越 =========\n",
      "True\n",
      "False\n"
     ]
    }
   ],
   "source": [
    "print(\"========== bがaに優越 =========\")\n",
    "print(is_dominated([1, 1], [2, 2]))\n",
    "print(is_non_dominated([1, 1], [2, 2]))\n",
    "print(\"========== 優越なし =========\")\n",
    "print(is_dominated([1, 2], [1, 2]))\n",
    "print(is_non_dominated([1, 2], [1, 2]))\n",
    "print(\"========== aがbに優越 =========\")\n",
    "print(is_dominated([2, 2], [1, 1]))\n",
    "print(is_non_dominated([2, 2], [1, 1]))"
   ]
  },
  {
   "cell_type": "code",
   "execution_count": null,
   "id": "ad7c7cb0-9ecd-4eb8-8b1d-59fc8c393209",
   "metadata": {},
   "outputs": [],
   "source": []
  }
 ],
 "metadata": {
  "kernelspec": {
   "display_name": "Python 3 (ipykernel)",
   "language": "python",
   "name": "python3"
  },
  "language_info": {
   "codemirror_mode": {
    "name": "ipython",
    "version": 3
   },
   "file_extension": ".py",
   "mimetype": "text/x-python",
   "name": "python",
   "nbconvert_exporter": "python",
   "pygments_lexer": "ipython3",
   "version": "3.9.6"
  }
 },
 "nbformat": 4,
 "nbformat_minor": 5
}
