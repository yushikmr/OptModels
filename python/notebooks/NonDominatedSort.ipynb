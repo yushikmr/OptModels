{
 "cells": [
  {
   "cell_type": "code",
   "execution_count": 1,
   "id": "8ed00b33-35f9-49e3-a1a2-a472803cb70a",
   "metadata": {},
   "outputs": [],
   "source": [
    "import copy\n",
    "import numpy as np\n",
    "import random\n",
    "import matplotlib.pyplot as plt"
   ]
  },
  {
   "cell_type": "code",
   "execution_count": 10,
   "id": "975566e1-5b9f-4b9a-b276-63d90ace63bf",
   "metadata": {},
   "outputs": [
    {
     "data": {
      "text/plain": [
       "<matplotlib.collections.PathCollection at 0x11fdb1c10>"
      ]
     },
     "execution_count": 10,
     "metadata": {},
     "output_type": "execute_result"
    },
    {
     "data": {
      "image/png": "[encoded data removed]",
      "text/plain": [
       "<Figure size 432x288 with 1 Axes>"
      ]
     },
     "metadata": {
      "needs_background": "light"
     },
     "output_type": "display_data"
    }
   ],
   "source": [
    "samplePlots = [(0.5, 0.5), \n",
    "               (1, 1), \n",
    "               (0.8, 0.7), \n",
    "               (0.3, 0.8),\n",
    "               (0.9, 0.4)]\n",
    "x = [i[0] for i in samplePlots]\n",
    "y = [i[1] for i in samplePlots]\n",
    "plt.scatter(x, y)"
   ]
  },
  {
   "cell_type": "markdown",
   "id": "f20edfec-9005-4281-97b3-b34042d11adb",
   "metadata": {},
   "source": [
    "### 優越関係の判定"
   ]
  },
  {
   "cell_type": "code",
   "execution_count": 3,
   "id": "fc13aec5-f8b6-4f04-bb2c-e8a375ca4692",
   "metadata": {},
   "outputs": [],
   "source": [
    "def is_dominated(a, b):\n",
    "    dominated_num = [1 for i, j in zip(a, b) if i < j]\n",
    "    return True if len(dominated_num) == len(a)  else False \n",
    "\n",
    "def is_non_dominated(a, b):\n",
    "    dominated_num = [1 for i, j in zip(a, b) if i >= j]\n",
    "    return True if len(dominated_num) > 0  else False\n"
   ]
  },
  {
   "cell_type": "code",
   "execution_count": 4,
   "id": "ce8016f8-0edf-4071-9c65-5458bffa0d84",
   "metadata": {},
   "outputs": [
    {
     "name": "stdout",
     "output_type": "stream",
     "text": [
      "========== bがaに優越 =========\n",
      "True\n",
      "False\n",
      "========== 優越なし =========\n",
      "False\n",
      "True\n",
      "========== aがbに優越 =========\n",
      "False\n",
      "True\n"
     ]
    }
   ],
   "source": [
    "print(\"========== bがaに優越 =========\")\n",
    "print(is_dominated([1, 1], [2, 2]))\n",
    "print(is_non_dominated([1, 1], [2, 2]))\n",
    "print(\"========== 優越なし =========\")\n",
    "print(is_dominated([1, 2], [1, 2]))\n",
    "print(is_non_dominated([1, 2], [1, 2]))\n",
    "print(\"========== aがbに優越 =========\")\n",
    "print(is_dominated([2, 2], [1, 1]))\n",
    "print(is_non_dominated([2, 2], [1, 1]))"
   ]
  },
  {
   "cell_type": "markdown",
   "id": "01f83324-d47e-413c-aa9c-ef4aa0b71a7a",
   "metadata": {},
   "source": [
    "### NonDominatedSort"
   ]
  },
  {
   "cell_type": "code",
   "execution_count": 5,
   "id": "8561f0a5-c6dd-4032-8232-59df4be8d1f4",
   "metadata": {},
   "outputs": [],
   "source": [
    "def nonDominatedInd(sample):\n",
    "    nonDominatedSample = []\n",
    "    for ind in sample:\n",
    "        dominated_num = sum([is_dominated(ind, comp) for comp in sample])\n",
    "        if dominated_num == 0:\n",
    "            nonDominatedSample.append(ind)\n",
    "    return nonDominatedSample   \n",
    "\n",
    "def non_dominated_sort(sample):\n",
    "    data = copy.deepcopy(sample)\n",
    "    rank = 1\n",
    "    while len(data) > 0:\n",
    "        rankSample = nonDominatedInd(data)\n",
    "        data = [ind for ind in data if ind not in rankSample]\n",
    "        print(f'rank {rank}')\n",
    "        print(rankSample)\n",
    "        rank+=1\n",
    "    "
   ]
  },
  {
   "cell_type": "code",
   "execution_count": 6,
   "id": "d0480d5b-8bd9-44de-81e7-94637551f544",
   "metadata": {},
   "outputs": [
    {
     "name": "stdout",
     "output_type": "stream",
     "text": [
      "rank 1\n",
      "[(1, 1)]\n",
      "rank 2\n",
      "[(0.8, 0.7), (0.3, 0.8), (0.9, 0.4)]\n",
      "rank 3\n",
      "[(0.5, 0.5)]\n"
     ]
    }
   ],
   "source": [
    "non_dominated_sort(samplePlots)"
   ]
  },
  {
   "cell_type": "code",
   "execution_count": 21,
   "id": "251e382b-d1a3-4c51-b6ff-d90f2ad7d679",
   "metadata": {},
   "outputs": [],
   "source": [
    "class NonDominatedSort:\n",
    "    def is_dominated(self, a, b):\n",
    "        dominated_num = [1 for i, j in zip(a, b) if i < j]\n",
    "        return True if len(dominated_num) == len(a)  else False \n",
    "    \n",
    "    def nonDominatedInd(self, sample):\n",
    "        nonDominatedSample = []\n",
    "        for ind in sample:\n",
    "            dominated_num = sum([self.is_dominated(ind, comp) for comp in sample])\n",
    "            if dominated_num == 0:\n",
    "                nonDominatedSample.append(ind)\n",
    "        return nonDominatedSample  \n",
    "\n",
    "    def non_dominated_sort(self, sample):\n",
    "        data = copy.deepcopy(sample)\n",
    "        rank = 1\n",
    "        while len(data) > 0:\n",
    "            rankSample = self.nonDominatedInd(data)\n",
    "            data = [ind for ind in data if ind not in rankSample]\n",
    "            print(f'rank {rank}')\n",
    "            print(rankSample)\n",
    "            rank+=1\n",
    "    def __call__(self, sample):\n",
    "        return self.non_dominated_sort(sample)"
   ]
  },
  {
   "cell_type": "code",
   "execution_count": 22,
   "id": "f401db8d-567e-4e4c-a641-e0cb1613406b",
   "metadata": {},
   "outputs": [
    {
     "name": "stdout",
     "output_type": "stream",
     "text": [
      "rank 1\n",
      "[(1, 1)]\n",
      "rank 2\n",
      "[(0.8, 0.7), (0.3, 0.8), (0.9, 0.4)]\n",
      "rank 3\n",
      "[(0.5, 0.5)]\n"
     ]
    }
   ],
   "source": [
    "sort = NonDominatedSort()\n",
    "sort(samplePlots)"
   ]
  },
  {
   "cell_type": "code",
   "execution_count": null,
   "id": "acd112bc-a00c-449a-ab49-e84bb0ed3dbd",
   "metadata": {},
   "outputs": [],
   "source": []
  }
 ],
 "metadata": {
  "kernelspec": {
   "display_name": "Python 3 (ipykernel)",
   "language": "python",
   "name": "python3"
  },
  "language_info": {
   "codemirror_mode": {
    "name": "ipython",
    "version": 3
   },
   "file_extension": ".py",
   "mimetype": "text/x-python",
   "name": "python",
   "nbconvert_exporter": "python",
   "pygments_lexer": "ipython3",
   "version": "3.9.6"
  }
 },
 "nbformat": 4,
 "nbformat_minor": 5
}
