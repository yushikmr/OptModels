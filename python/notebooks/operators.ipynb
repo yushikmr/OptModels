{
 "cells": [
  {
   "cell_type": "code",
   "execution_count": 1,
   "id": "4369259e-c150-4f4c-9e6d-e1f4a5c1fa64",
   "metadata": {},
   "outputs": [],
   "source": [
    "import numpy as np\n",
    "import random\n",
    "import matplotlib.pyplot as plt"
   ]
  },
  {
   "cell_type": "code",
   "execution_count": 2,
   "id": "c5763425-e590-41e3-b45d-42b5dbf292b1",
   "metadata": {},
   "outputs": [],
   "source": [
    "def sbc(x1, x2, eta):\n",
    "    u = random.random()\n",
    "    if u < 0.5:\n",
    "        beta = (2 * u) ** (1 / (eta + 1))\n",
    "    else:\n",
    "        beta = (1 / (2 * (1 - u))) ** (1 / (eta + 1))\n",
    "    \n",
    "    c1 = 0.5 * ( (1 + beta) * x1 + (1 - beta) * x2)\n",
    "    c2 = 0.5 * ( (1 - beta) * x1 + (1 + beta) * x2)\n",
    "    if random.random() < 0.5:    \n",
    "        return c1, c2\n",
    "    else:\n",
    "        return c2, c1\n"
   ]
  },
  {
   "cell_type": "code",
   "execution_count": 3,
   "id": "b43ed358-0680-43ed-9f60-9962fd218950",
   "metadata": {},
   "outputs": [],
   "source": [
    "def simulatedBinaryCrossover(ind1, ind2, eta, probabiliry=None):\n",
    "    l = max(len(ind1), len(ind2))\n",
    "    if not probabiliry:\n",
    "        probabiliry = 1 / l\n",
    "    \n",
    "    def sbc(x1, x2, eta):\n",
    "        u = random.random()\n",
    "        if u < 0.5:\n",
    "            beta = (2 * u) ** (1 / (eta + 1))\n",
    "        else:\n",
    "            beta = (1 / (2 * (1 - u))) ** (1 / (eta + 1))\n",
    "\n",
    "        c1 = 0.5 * ( (1 + beta) * x1 + (1 - beta) * x2)\n",
    "        c2 = 0.5 * ( (1 - beta) * x1 + (1 + beta) * x2)\n",
    "        if random.random() < 0.5:    \n",
    "            return c1, c2\n",
    "        else:\n",
    "            return c2, c1\n",
    "    for i in range(l):\n",
    "        x1 = ind1[i]\n",
    "        x2 = ind2[i]\n",
    "        if random.random() < probabiliry:\n",
    "            ind1[i], ind2[i] = sbc(x1, x2, eta)\n",
    "    return ind1, ind2"
   ]
  },
  {
   "cell_type": "code",
   "execution_count": 4,
   "id": "2744f514-b04a-43d7-941e-f4d20999461f",
   "metadata": {},
   "outputs": [
    {
     "data": {
      "text/plain": [
       "([-1, -1, -1], [1, 1, 1])"
      ]
     },
     "execution_count": 4,
     "metadata": {},
     "output_type": "execute_result"
    }
   ],
   "source": [
    "ind1 = [-1, -1, -1]\n",
    "ind2 = [1, 1, 1]\n",
    "simulatedBinaryCrossover(ind1, ind2, 20)"
   ]
  },
  {
   "cell_type": "code",
   "execution_count": 86,
   "id": "5c037637-bf70-41f9-b614-b7f873e6f3f5",
   "metadata": {},
   "outputs": [],
   "source": [
    "def pm(x, eta, low, up):\n",
    "    u = random.random()\n",
    "    if u < 0.5:\n",
    "        delta = (2 * u) ** (1 / (1 + eta)) - 1\n",
    "        c = x + delta * (x - low)\n",
    "    else:\n",
    "        delta = (1 / (2 * (1 - u))) ** (1 / (eta + 1)) - 1\n",
    "        c = x + delta * (up - x)\n",
    "    return c"
   ]
  },
  {
   "cell_type": "code",
   "execution_count": 90,
   "id": "217df758-6d97-4036-b1a5-8f6889cf1b24",
   "metadata": {},
   "outputs": [],
   "source": [
    "def polynomialMutation(ind, eta, low, up, probabiliry=None):\n",
    "    l = len(ind)\n",
    "    if not probabiliry:\n",
    "        probabiliry = 1 / len(ind)\n",
    "    for i in range(l):\n",
    "        x = ind[i]\n",
    "        if random.random() < probabiliry:\n",
    "            ind[i] = pm(x, eta, low, up)\n",
    "    return ind"
   ]
  },
  {
   "cell_type": "code",
   "execution_count": 101,
   "id": "adc0c214-2fdb-4cb7-8448-99b8da1ad288",
   "metadata": {},
   "outputs": [
    {
     "data": {
      "text/plain": [
       "[0, 0, 0.0009161628715703696]"
      ]
     },
     "execution_count": 101,
     "metadata": {},
     "output_type": "execute_result"
    }
   ],
   "source": [
    "ind = [0, 0, 0]\n",
    "polynomialMutation(ind, 20, -1, 1)"
   ]
  },
  {
   "cell_type": "code",
   "execution_count": null,
   "id": "a0d307e3-fcbd-4a9d-9c7f-c23937479349",
   "metadata": {},
   "outputs": [],
   "source": []
  }
 ],
 "metadata": {
  "kernelspec": {
   "display_name": "Python 3 (ipykernel)",
   "language": "python",
   "name": "python3"
  },
  "language_info": {
   "codemirror_mode": {
    "name": "ipython",
    "version": 3
   },
   "file_extension": ".py",
   "mimetype": "text/x-python",
   "name": "python",
   "nbconvert_exporter": "python",
   "pygments_lexer": "ipython3",
   "version": "3.9.6"
  }
 },
 "nbformat": 4,
 "nbformat_minor": 5
}
