{
 "cells": [
  {
   "cell_type": "code",
   "execution_count": 1,
   "id": "2165fc4f-4649-43a3-9000-8b3d49435de4",
   "metadata": {},
   "outputs": [],
   "source": [
    "import sys\n",
    "import random\n",
    "import matplotlib.pyplot as plt\n",
    "sys.path.append(\"../\")\n",
    "from src.ga.construct import Indivdual, Population\n",
    "from src.ga.operators import NonDominatedSort\n",
    "from src.problems import dtlz3"
   ]
  },
  {
   "cell_type": "code",
   "execution_count": 2,
   "id": "da88baf4-a8ed-4672-b965-dc6a4fb2340d",
   "metadata": {},
   "outputs": [],
   "source": [
    "population = Population()\n",
    "for i in range(20):\n",
    "    population.append(\n",
    "        Indivdual(chromosomes=[random.random() for i in range(10)],\n",
    "                  num_objects=2,\n",
    "                  directions=(1, 1))\n",
    "    )"
   ]
  },
  {
   "cell_type": "code",
   "execution_count": 3,
   "id": "1574d006-8592-454a-8f95-9b97549e32df",
   "metadata": {},
   "outputs": [],
   "source": [
    "fitted_population = [p.allocationFitness(dtlz3) for p in population]"
   ]
  },
  {
   "cell_type": "code",
   "execution_count": 4,
   "id": "d7a707fc-58a9-4ff1-b9c5-f7fcfbe780cc",
   "metadata": {},
   "outputs": [],
   "source": [
    "sort = NonDominatedSort()\n",
    "sorted_sample = sort(fitted_population)\n",
    "ranks = sorted_sample.ranks()"
   ]
  },
  {
   "cell_type": "code",
   "execution_count": 8,
   "id": "87a746e8-7256-409c-9e6c-274b10c8c137",
   "metadata": {},
   "outputs": [
    {
     "data": {
      "image/png": "[encoded data removed]",
      "text/plain": [
       "<Figure size 432x288 with 1 Axes>"
      ]
     },
     "metadata": {
      "needs_background": "light"
     },
     "output_type": "display_data"
    }
   ],
   "source": [
    "for rank in range(10):\n",
    "    data = sorted_sample.extract_rank(rank)\n",
    "    x = [ind.fitness[0] for ind in data]\n",
    "    y = [ind.fitness[1] for ind in data]\n",
    "    plt.scatter(x, y)"
   ]
  },
  {
   "cell_type": "code",
   "execution_count": 6,
   "id": "184fe7d4-51e5-401c-9016-51b5a15a425e",
   "metadata": {},
   "outputs": [
    {
     "data": {
      "text/plain": [
       "[1, 1, 1, 1, 1, 1, 2, 2, 2, 2, 2, 2, 2, 3, 3, 3, 4, 4, 4, 5]"
      ]
     },
     "execution_count": 6,
     "metadata": {},
     "output_type": "execute_result"
    }
   ],
   "source": [
    "ranks"
   ]
  },
  {
   "cell_type": "code",
   "execution_count": null,
   "id": "488b5e25-e857-4b40-b7c0-48e680f24c76",
   "metadata": {},
   "outputs": [],
   "source": []
  }
 ],
 "metadata": {
  "kernelspec": {
   "display_name": "Python 3 (ipykernel)",
   "language": "python",
   "name": "python3"
  },
  "language_info": {
   "codemirror_mode": {
    "name": "ipython",
    "version": 3
   },
   "file_extension": ".py",
   "mimetype": "text/x-python",
   "name": "python",
   "nbconvert_exporter": "python",
   "pygments_lexer": "ipython3",
   "version": "3.9.6"
  }
 },
 "nbformat": 4,
 "nbformat_minor": 5
}
