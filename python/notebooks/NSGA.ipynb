{
 "cells": [
  {
   "cell_type": "code",
   "execution_count": 1,
   "id": "2165fc4f-4649-43a3-9000-8b3d49435de4",
   "metadata": {},
   "outputs": [],
   "source": [
    "import sys\n",
    "import random\n",
    "import copy\n",
    "import matplotlib.pyplot as plt\n",
    "sys.path.append(\"../\")\n",
    "from src.ga.construct import Indivdual, Population\n",
    "from src.ga.operators import NonDominatedSort\n",
    "from src.problems import dtlz3\n",
    "from src.ga.operators import Operator\n",
    "from src.ga.algorithm import NSGA"
   ]
  },
  {
   "cell_type": "code",
   "execution_count": 2,
   "id": "7b1e163b-eba5-479e-b50a-055b29ff30b9",
   "metadata": {},
   "outputs": [
    {
     "name": "stdout",
     "output_type": "stream",
     "text": [
      "CPU times: user 572 ms, sys: 3.47 ms, total: 576 ms\n",
      "Wall time: 574 ms\n"
     ]
    }
   ],
   "source": [
    "%%time\n",
    "nsga = NSGA(evalfunc=dtlz3, numVariables=10, numObjects=2)\n",
    "result = nsga.run(num_step=4)"
   ]
  },
  {
   "cell_type": "code",
   "execution_count": 3,
   "id": "4792aaa1-f722-4fae-9eb4-1f5847b8ce26",
   "metadata": {},
   "outputs": [
    {
     "data": {
      "text/plain": [
       "100"
      ]
     },
     "execution_count": 3,
     "metadata": {},
     "output_type": "execute_result"
    }
   ],
   "source": [
    "len(result)"
   ]
  },
  {
   "cell_type": "code",
   "execution_count": 4,
   "id": "87a746e8-7256-409c-9e6c-274b10c8c137",
   "metadata": {},
   "outputs": [
    {
     "data": {
      "image/png": "[encoded data removed]",
      "text/plain": [
       "<Figure size 432x288 with 1 Axes>"
      ]
     },
     "metadata": {
      "needs_background": "light"
     },
     "output_type": "display_data"
    }
   ],
   "source": [
    "for rank in range(10):\n",
    "    data = result.extract_rank(rank)\n",
    "    x = [ind.fitness[0] for ind in data]\n",
    "    y = [ind.fitness[1] for ind in data]\n",
    "    plt.scatter(x, y)"
   ]
  },
  {
   "cell_type": "code",
   "execution_count": 9,
   "id": "e354e776-123f-4694-90a1-2c141fb95ccc",
   "metadata": {},
   "outputs": [
    {
     "data": {
      "text/plain": [
       "list"
      ]
     },
     "execution_count": 9,
     "metadata": {},
     "output_type": "execute_result"
    }
   ],
   "source": [
    "type(result)"
   ]
  },
  {
   "cell_type": "code",
   "execution_count": null,
   "id": "32365350-adb1-4587-803b-4e8806151df6",
   "metadata": {},
   "outputs": [],
   "source": []
  }
 ],
 "metadata": {
  "kernelspec": {
   "display_name": "Python 3 (ipykernel)",
   "language": "python",
   "name": "python3"
  },
  "language_info": {
   "codemirror_mode": {
    "name": "ipython",
    "version": 3
   },
   "file_extension": ".py",
   "mimetype": "text/x-python",
   "name": "python",
   "nbconvert_exporter": "python",
   "pygments_lexer": "ipython3",
   "version": "3.9.6"
  }
 },
 "nbformat": 4,
 "nbformat_minor": 5
}
