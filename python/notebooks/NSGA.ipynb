{
 "cells": [
  {
   "cell_type": "code",
   "execution_count": null,
   "id": "2165fc4f-4649-43a3-9000-8b3d49435de4",
   "metadata": {},
   "outputs": [],
   "source": [
    "import sys\n",
    "import random\n",
    "import copy\n",
    "import matplotlib.pyplot as plt\n",
    "sys.path.append(\"../\")\n",
    "from src.ga.construct import Indivdual, Population\n",
    "from src.ga.operators import NonDominatedSort\n",
    "from src.problems import dtlz3\n",
    "from src.ga.operators import Operator\n",
    "from src.ga.algorithm import NSGA"
   ]
  },
  {
   "cell_type": "code",
   "execution_count": 2,
   "id": "7b1e163b-eba5-479e-b50a-055b29ff30b9",
   "metadata": {},
   "outputs": [
    {
     "name": "stdout",
     "output_type": "stream",
     "text": [
      "CPU times: user 11.6 s, sys: 41.9 ms, total: 11.7 s\n",
      "Wall time: 11.4 s\n"
     ]
    }
   ],
   "source": [
    "%%time\n",
    "nsga = NSGA(evalfunc=dtlz3, numVariables=10, numObjects=2, low=0, up=1, shigma=5)\n",
    "result = nsga.run(num_step=100)"
   ]
  },
  {
   "cell_type": "code",
   "execution_count": 3,
   "id": "87a746e8-7256-409c-9e6c-274b10c8c137",
   "metadata": {},
   "outputs": [
    {
     "data": {
      "image/png": "[encoded data removed]",
      "text/plain": [
       "<Figure size 432x288 with 1 Axes>"
      ]
     },
     "metadata": {
      "needs_background": "light"
     },
     "output_type": "display_data"
    }
   ],
   "source": [
    "for rank in range(10):\n",
    "    data = result.extract_rank(rank)\n",
    "    x = [ind.fitness[0] for ind in data]\n",
    "    y = [ind.fitness[1] for ind in data]\n",
    "    plt.scatter(x, y)"
   ]
  },
  {
   "cell_type": "code",
   "execution_count": 3,
   "id": "e354e776-123f-4694-90a1-2c141fb95ccc",
   "metadata": {},
   "outputs": [
    {
     "data": {
      "text/plain": [
       "[1, 2, 3]"
      ]
     },
     "execution_count": 3,
     "metadata": {},
     "output_type": "execute_result"
    }
   ],
   "source": [
    "[1,2,3,4][:-1]"
   ]
  },
  {
   "cell_type": "code",
   "execution_count": null,
   "id": "32365350-adb1-4587-803b-4e8806151df6",
   "metadata": {},
   "outputs": [],
   "source": []
  }
 ],
 "metadata": {
  "kernelspec": {
   "display_name": "Python 3 (ipykernel)",
   "language": "python",
   "name": "python3"
  },
  "language_info": {
   "codemirror_mode": {
    "name": "ipython",
    "version": 3
   },
   "file_extension": ".py",
   "mimetype": "text/x-python",
   "name": "python",
   "nbconvert_exporter": "python",
   "pygments_lexer": "ipython3",
   "version": "3.9.6"
  }
 },
 "nbformat": 4,
 "nbformat_minor": 5
}
