{
 "cells": [
  {
   "cell_type": "code",
   "execution_count": 1,
   "id": "0371fc70-fc92-46ef-80e1-5e5b2f9c784b",
   "metadata": {},
   "outputs": [],
   "source": [
    "from ga import Indivdual, Population\n",
    "from problems import dtlz2"
   ]
  },
  {
   "cell_type": "code",
   "execution_count": 4,
   "id": "7622c2a0-3df6-45f1-be70-d39c55960e80",
   "metadata": {},
   "outputs": [
    {
     "data": {
      "text/plain": [
       "Indivdual(chromosomes=[0, 0, 1], num_objects=3, directions=(1, 1, 1), fitness=[1.25, 0.0, 0.0], rank=None, niche_count=None)"
      ]
     },
     "execution_count": 4,
     "metadata": {},
     "output_type": "execute_result"
    }
   ],
   "source": [
    "ind = Indivdual([0, 0, 1], 3)\n",
    "ind.allocationFitness(dtlz2)"
   ]
  },
  {
   "cell_type": "code",
   "execution_count": 6,
   "id": "59d16335-d556-4ed5-a3cc-011d81027094",
   "metadata": {},
   "outputs": [
    {
     "data": {
      "text/plain": [
       "ga.construct.Population"
      ]
     },
     "execution_count": 6,
     "metadata": {},
     "output_type": "execute_result"
    }
   ],
   "source": [
    "type(Population(1, 1, 1) + Population(0, 0, 0))"
   ]
  },
  {
   "cell_type": "code",
   "execution_count": 7,
   "id": "7b2aea3a-5d53-49e6-8949-71d348f75b65",
   "metadata": {},
   "outputs": [
    {
     "data": {
      "text/plain": [
       "ga.construct.Population"
      ]
     },
     "execution_count": 7,
     "metadata": {},
     "output_type": "execute_result"
    }
   ],
   "source": [
    "type(Population(1, 1, 1)[:])"
   ]
  },
  {
   "cell_type": "code",
   "execution_count": null,
   "id": "f4d3389d-509b-4fcb-a915-4f83baa02d29",
   "metadata": {},
   "outputs": [],
   "source": []
  },
  {
   "cell_type": "code",
   "execution_count": null,
   "id": "e92e60d6-1453-415e-bd26-891d658b0dad",
   "metadata": {},
   "outputs": [],
   "source": []
  }
 ],
 "metadata": {
  "kernelspec": {
   "display_name": "Python 3 (ipykernel)",
   "language": "python",
   "name": "python3"
  },
  "language_info": {
   "codemirror_mode": {
    "name": "ipython",
    "version": 3
   },
   "file_extension": ".py",
   "mimetype": "text/x-python",
   "name": "python",
   "nbconvert_exporter": "python",
   "pygments_lexer": "ipython3",
   "version": "3.9.6"
  }
 },
 "nbformat": 4,
 "nbformat_minor": 5
}
