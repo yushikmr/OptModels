{
 "cells": [
  {
   "cell_type": "code",
   "execution_count": 1,
   "id": "2165fc4f-4649-43a3-9000-8b3d49435de4",
   "metadata": {},
   "outputs": [],
   "source": [
    "from ga import NSGA\n",
    "from problems import dtlz3"
   ]
  },
  {
   "cell_type": "markdown",
   "id": "16d1a7f2-16ce-430d-bc0e-1edbb60d4887",
   "metadata": {},
   "source": [
    "### Solving dtlz3 with NSGA, a type of genetic algorithm"
   ]
  },
  {
   "cell_type": "code",
   "execution_count": 2,
   "id": "7b1e163b-eba5-479e-b50a-055b29ff30b9",
   "metadata": {},
   "outputs": [
    {
     "name": "stdout",
     "output_type": "stream",
     "text": [
      "CPU times: user 14.7 s, sys: 282 ms, total: 14.9 s\n",
      "Wall time: 14.4 s\n"
     ]
    }
   ],
   "source": [
    "%%time\n",
    "nsga = NSGA(evalfunc=dtlz3, numVariables=10, numObjects=2, low=0, up=1, shigma=5)\n",
    "result = nsga.run(num_step=100)"
   ]
  },
  {
   "cell_type": "markdown",
   "id": "e1bdff42-ee6b-430c-bd68-58f6af8f5ac6",
   "metadata": {},
   "source": [
    "### visualize"
   ]
  },
  {
   "cell_type": "code",
   "execution_count": 3,
   "id": "87a746e8-7256-409c-9e6c-274b10c8c137",
   "metadata": {},
   "outputs": [
    {
     "data": {
      "image/png": "[encoded data removed]",
      "text/plain": [
       "<Figure size 432x288 with 1 Axes>"
      ]
     },
     "metadata": {
      "needs_background": "light"
     },
     "output_type": "display_data"
    }
   ],
   "source": [
    "import matplotlib.pyplot as plt\n",
    "for rank in range(10):\n",
    "    data = result.extract_rank(rank)\n",
    "    x = [ind.fitness[0] for ind in data]\n",
    "    y = [ind.fitness[1] for ind in data]\n",
    "    plt.scatter(x, y)"
   ]
  },
  {
   "cell_type": "code",
   "execution_count": null,
   "id": "32365350-adb1-4587-803b-4e8806151df6",
   "metadata": {},
   "outputs": [],
   "source": []
  }
 ],
 "metadata": {
  "kernelspec": {
   "display_name": "Python 3 (ipykernel)",
   "language": "python",
   "name": "python3"
  },
  "language_info": {
   "codemirror_mode": {
    "name": "ipython",
    "version": 3
   },
   "file_extension": ".py",
   "mimetype": "text/x-python",
   "name": "python",
   "nbconvert_exporter": "python",
   "pygments_lexer": "ipython3",
   "version": "3.9.6"
  }
 },
 "nbformat": 4,
 "nbformat_minor": 5
}
